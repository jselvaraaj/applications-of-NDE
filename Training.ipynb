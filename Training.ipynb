{
 "cells": [
  {
   "cell_type": "code",
   "execution_count": null,
   "metadata": {
    "colab": {
     "base_uri": "https://localhost:8080/"
    },
    "executionInfo": {
     "elapsed": 31039,
     "status": "ok",
     "timestamp": 1680456321548,
     "user": {
      "displayName": "Joseph Daniel Selvaraaj",
      "userId": "01267249207347429283"
     },
     "user_tz": 240
    },
    "id": "GAZiAj_JWb_I",
    "outputId": "3df38337-7732-4f2a-c803-fbd651abd26c"
   },
   "outputs": [],
   "source": [
    "import sys\n",
    "sys.path.append(f'/home/jselvaraaj_umass_edu/applications-of-NDE')"
   ]
  },
  {
   "cell_type": "code",
   "execution_count": null,
   "metadata": {
    "id": "MIcNK5XmCwqM"
   },
   "outputs": [],
   "source": [
    "!pip install gymnasium\n",
    "\n",
    "!pip install wandb\n",
    "\n",
    "#Setting up pygame for colab\n",
    "!python -m pip install pygame\n",
    "\n",
    "# Graphics and plotting.\n",
    "print('Installing mediapy:')\n",
    "!apt update && apt install -y ffmpeg\n",
    "!command -v ffmpeg >/dev/null\n",
    "!pip install -q mediapy\n",
    "\n",
    "#for neural CDE\n",
    "!pip install torchcde torchdiffeq"
   ]
  },
  {
   "cell_type": "code",
   "execution_count": 1,
   "metadata": {},
   "outputs": [
    {
     "name": "stdout",
     "output_type": "stream",
     "text": [
      "pygame 2.3.0 (SDL 2.24.2, Python 3.9.13)\n",
      "Hello from the pygame community. https://www.pygame.org/contribute.html\n"
     ]
    }
   ],
   "source": [
    "import os\n",
    "os.environ['SDL_VIDEODRIVER']='dummy'\n",
    "import pygame\n",
    "pygame.display.set_mode((640,480))\n",
    "\n",
    "import mediapy as media\n",
    "import matplotlib.pyplot as plt\n",
    "\n",
    "import torchcde\n",
    "import torch"
   ]
  },
  {
   "cell_type": "code",
   "execution_count": 5,
   "metadata": {
    "colab": {
     "base_uri": "https://localhost:8080/",
     "height": 1000
    },
    "executionInfo": {
     "elapsed": 69490,
     "status": "error",
     "timestamp": 1680462724535,
     "user": {
      "displayName": "Joseph Daniel Selvaraaj",
      "userId": "01267249207347429283"
     },
     "user_tz": 240
    },
    "id": "uEtQfN4iCdOk",
    "outputId": "0a8d241a-07ba-4efa-acf8-455fb44926df"
   },
   "outputs": [
    {
     "name": "stdout",
     "output_type": "stream",
     "text": [
      "pygame 2.3.0 (SDL 2.24.2, Python 3.9.13)\n",
      "Hello from the pygame community. https://www.pygame.org/contribute.html\n",
      "\u001b[34m\u001b[1mwandb\u001b[0m: Currently logged in as: \u001b[33mjosssdan\u001b[0m. Use \u001b[1m`wandb login --relogin`\u001b[0m to force relogin\n",
      "\u001b[34m\u001b[1mwandb\u001b[0m: Tracking run with wandb version 0.14.0\n",
      "\u001b[34m\u001b[1mwandb\u001b[0m: Run data is saved locally in \u001b[35m\u001b[1m/home/jselvaraaj_umass_edu/applications-of-NDE/wandb/run-20230403_011558-rmwb2bjc\u001b[0m\n",
      "\u001b[34m\u001b[1mwandb\u001b[0m: Run \u001b[1m`wandb offline`\u001b[0m to turn off syncing.\n",
      "\u001b[34m\u001b[1mwandb\u001b[0m: Syncing run \u001b[33mfallen-wave-64\u001b[0m\n",
      "\u001b[34m\u001b[1mwandb\u001b[0m: ⭐️ View project at \u001b[34m\u001b[4mhttps://wandb.ai/josssdan/NDE_as_Mental_Models\u001b[0m\n",
      "\u001b[34m\u001b[1mwandb\u001b[0m: 🚀 View run at \u001b[34m\u001b[4mhttps://wandb.ai/josssdan/NDE_as_Mental_Models/runs/rmwb2bjc\u001b[0m\n",
      "Device:  cuda\n",
      "data collecting policy total parameters -  76\n",
      "Degenerated State space dim -  80\n",
      "Number of parameters in baseline:  6948\n",
      "Generating data...\n"
     ]
    }
   ],
   "source": [
    "!python baseline_simulator.py"
   ]
  },
  {
   "cell_type": "code",
   "execution_count": null,
   "metadata": {
    "executionInfo": {
     "elapsed": 4,
     "status": "aborted",
     "timestamp": 1680462724536,
     "user": {
      "displayName": "Joseph Daniel Selvaraaj",
      "userId": "01267249207347429283"
     },
     "user_tz": 240
    },
    "id": "YiPo-vjuXiRV"
   },
   "outputs": [],
   "source": [
    "!python test_simulator.py"
   ]
  }
 ],
 "metadata": {
  "accelerator": "GPU",
  "colab": {
   "authorship_tag": "ABX9TyNTg3LP6pT6bJM+k/GGjtxl",
   "mount_file_id": "1QAVJkk7X-J0f6-ClDzNkmOZyEhnsBtnK",
   "provenance": [
    {
     "file_id": "1MCoK2o6ARZaF-2EIN0Eu7aSX4tOtrW9o",
     "timestamp": 1677182560423
    }
   ]
  },
  "gpuClass": "standard",
  "kernelspec": {
   "display_name": "Python (anaconda-2022.10)",
   "language": "python",
   "name": "conda-env-anaconda-2022.10-py"
  },
  "language_info": {
   "codemirror_mode": {
    "name": "ipython",
    "version": 3
   },
   "file_extension": ".py",
   "mimetype": "text/x-python",
   "name": "python",
   "nbconvert_exporter": "python",
   "pygments_lexer": "ipython3",
   "version": "3.9.13"
  }
 },
 "nbformat": 4,
 "nbformat_minor": 4
}
