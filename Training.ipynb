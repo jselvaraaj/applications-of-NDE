{
 "cells": [
  {
   "cell_type": "code",
   "execution_count": null,
   "metadata": {
    "colab": {
     "base_uri": "https://localhost:8080/"
    },
    "executionInfo": {
     "elapsed": 31039,
     "status": "ok",
     "timestamp": 1680456321548,
     "user": {
      "displayName": "Joseph Daniel Selvaraaj",
      "userId": "01267249207347429283"
     },
     "user_tz": 240
    },
    "id": "GAZiAj_JWb_I",
    "outputId": "3df38337-7732-4f2a-c803-fbd651abd26c"
   },
   "outputs": [],
   "source": [
    "import sys\n",
    "sys.path.append(f'/home/jselvaraaj_umass_edu/applications-of-NDE')"
   ]
  },
  {
   "cell_type": "code",
   "execution_count": null,
   "metadata": {
    "id": "MIcNK5XmCwqM"
   },
   "outputs": [],
   "source": [
    "!pip install gymnasium\n",
    "\n",
    "!pip install wandb\n",
    "\n",
    "#Setting up pygame for colab\n",
    "!python -m pip install pygame\n",
    "\n",
    "# Graphics and plotting.\n",
    "print('Installing mediapy:')\n",
    "!apt update && apt install -y ffmpeg\n",
    "!command -v ffmpeg >/dev/null\n",
    "!pip install -q mediapy\n",
    "\n",
    "#for neural CDE\n",
    "!pip install torchcde torchdiffeq"
   ]
  },
  {
   "cell_type": "code",
   "execution_count": null,
   "metadata": {},
   "outputs": [],
   "source": [
    "import os\n",
    "os.environ['SDL_VIDEODRIVER']='dummy'\n",
    "import pygame\n",
    "pygame.display.set_mode((640,480))\n",
    "\n",
    "import mediapy as media\n",
    "import matplotlib.pyplot as plt\n",
    "\n",
    "import torchcde\n",
    "import torch"
   ]
  },
  {
   "cell_type": "code",
   "execution_count": null,
   "metadata": {
    "colab": {
     "base_uri": "https://localhost:8080/",
     "height": 1000
    },
    "executionInfo": {
     "elapsed": 69490,
     "status": "error",
     "timestamp": 1680462724535,
     "user": {
      "displayName": "Joseph Daniel Selvaraaj",
      "userId": "01267249207347429283"
     },
     "user_tz": 240
    },
    "id": "uEtQfN4iCdOk",
    "outputId": "0a8d241a-07ba-4efa-acf8-455fb44926df"
   },
   "outputs": [],
   "source": [
    "!python main.py"
   ]
  },
  {
   "cell_type": "code",
   "execution_count": null,
   "metadata": {
    "executionInfo": {
     "elapsed": 4,
     "status": "aborted",
     "timestamp": 1680462724536,
     "user": {
      "displayName": "Joseph Daniel Selvaraaj",
      "userId": "01267249207347429283"
     },
     "user_tz": 240
    },
    "id": "YiPo-vjuXiRV"
   },
   "outputs": [],
   "source": [
    "!python main.py baseline=False"
   ]
  },
  {
   "cell_type": "code",
   "execution_count": null,
   "metadata": {},
   "outputs": [],
   "source": [
    "!python main.py"
   ]
  },
  {
   "cell_type": "code",
   "execution_count": null,
   "metadata": {},
   "outputs": [],
   "source": [
    "!python main.py baseline=False"
   ]
  },
  {
   "cell_type": "code",
   "execution_count": null,
   "metadata": {},
   "outputs": [],
   "source": []
  }
 ],
 "metadata": {
  "accelerator": "GPU",
  "colab": {
   "authorship_tag": "ABX9TyNTg3LP6pT6bJM+k/GGjtxl",
   "mount_file_id": "1QAVJkk7X-J0f6-ClDzNkmOZyEhnsBtnK",
   "provenance": [
    {
     "file_id": "1MCoK2o6ARZaF-2EIN0Eu7aSX4tOtrW9o",
     "timestamp": 1677182560423
    }
   ]
  },
  "gpuClass": "standard",
  "kernelspec": {
   "display_name": "Python [conda env:anaconda-2022.10]",
   "language": "python",
   "name": "conda-env-anaconda-2022.10-py"
  },
  "language_info": {
   "codemirror_mode": {
    "name": "ipython",
    "version": 3
   },
   "file_extension": ".py",
   "mimetype": "text/x-python",
   "name": "python",
   "nbconvert_exporter": "python",
   "pygments_lexer": "ipython3",
   "version": "3.9.13"
  }
 },
 "nbformat": 4,
 "nbformat_minor": 4
}
