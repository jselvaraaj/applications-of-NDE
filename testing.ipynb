{
 "cells": [
  {
   "cell_type": "code",
   "execution_count": 9,
   "id": "956cae09-24d6-422f-979c-dc49dcc3924e",
   "metadata": {},
   "outputs": [],
   "source": [
    "from environment import GridWorldEnv\n",
    "import policy\n",
    "import generator\n",
    "import networks\n",
    "import torch\n",
    "import solver\n",
    "import experiment\n",
    "from sklearn.model_selection import train_test_split\n",
    "import wandb\n",
    "import utils\n",
    "\n",
    "import torch"
   ]
  },
  {
   "cell_type": "code",
   "execution_count": 7,
   "id": "013c6a8f-97b1-4254-bff1-7d72390ecd92",
   "metadata": {},
   "outputs": [],
   "source": [
    "observation_space_dim = 4 # not a hyperparameter\n",
    "action_space_dim = 4 # not a hyperparameter\n",
    "\n",
    "data_collecting_policy = policy.Policy(observation_space_dim,action_space_dim)\n",
    "\n",
    "degenerated_state_space_dim = observation_space_dim + data_collecting_policy.weights.shape[0]\n",
    "\n",
    "hidden_layer_size = 32 # entered from config file"
   ]
  },
  {
   "cell_type": "code",
   "execution_count": 8,
   "id": "c39f49b4-9ee0-4241-8e0d-e65c4cc2a0f9",
   "metadata": {},
   "outputs": [
    {
     "data": {
      "text/plain": [
       "<All keys matched successfully>"
      ]
     },
     "execution_count": 8,
     "metadata": {},
     "output_type": "execute_result"
    }
   ],
   "source": [
    "model = networks.NNBaseline(degenerated_state_space_dim, hidden_layer_size,observation_space_dim)\n",
    "model.load_state_dict(torch.load(r'./wandb/run-20230506_190751-4lkt2k1s/files/exp.model'))"
   ]
  },
  {
   "cell_type": "code",
   "execution_count": 14,
   "id": "58827fe3-603b-4128-97aa-ff687b85fe46",
   "metadata": {},
   "outputs": [],
   "source": [
    "device = utils.get_device()"
   ]
  },
  {
   "cell_type": "code",
   "execution_count": 33,
   "id": "fc7f7499-33e7-45bf-8d4a-7ac5d520c50c",
   "metadata": {},
   "outputs": [],
   "source": [
    "x = torch.ones(10,degenerated_state_space_dim).to(device)"
   ]
  },
  {
   "cell_type": "code",
   "execution_count": 34,
   "id": "2805a932-8a2c-413c-ba6c-770e7c4a00c3",
   "metadata": {},
   "outputs": [
    {
     "data": {
      "text/plain": [
       "torch.float32"
      ]
     },
     "execution_count": 34,
     "metadata": {},
     "output_type": "execute_result"
    }
   ],
   "source": [
    "x.dtype"
   ]
  },
  {
   "cell_type": "code",
   "execution_count": 41,
   "id": "a7d84a19-fcc7-440a-9905-6ac6af088bfd",
   "metadata": {},
   "outputs": [],
   "source": [
    "x = torch.arange(degenerated_state_space_dim*10,dtype = torch.float32).reshape(10,degenerated_state_space_dim).to(device)"
   ]
  },
  {
   "cell_type": "code",
   "execution_count": 48,
   "id": "8b6a84fb-276c-4f03-b21e-c7f2022d40da",
   "metadata": {},
   "outputs": [],
   "source": [
    "t = 1000"
   ]
  },
  {
   "cell_type": "code",
   "execution_count": 49,
   "id": "66ed434c-73ca-4090-86d9-88d8cdcc2f4a",
   "metadata": {},
   "outputs": [
    {
     "data": {
      "text/plain": [
       "tensor([[0.0000e+00, 1.0000e+00, 2.0000e+00,  ..., 1.4900e+02, 1.5000e+02,\n",
       "         1.5100e+02],\n",
       "        [1.5200e+02, 1.5300e+02, 1.5400e+02,  ..., 3.0100e+02, 3.0200e+02,\n",
       "         3.0300e+02],\n",
       "        [3.0400e+02, 3.0500e+02, 3.0600e+02,  ..., 4.5300e+02, 4.5400e+02,\n",
       "         4.5500e+02],\n",
       "        ...,\n",
       "        [1.0640e+03, 1.0650e+03, 1.0660e+03,  ..., 1.2130e+03, 1.2140e+03,\n",
       "         1.2150e+03],\n",
       "        [1.2160e+03, 1.2170e+03, 1.2180e+03,  ..., 1.3650e+03, 1.3660e+03,\n",
       "         1.3670e+03],\n",
       "        [1.3680e+03, 1.3690e+03, 1.3700e+03,  ..., 1.5170e+03, 1.5180e+03,\n",
       "         1.5190e+03]], device='cuda:0')"
      ]
     },
     "execution_count": 49,
     "metadata": {},
     "output_type": "execute_result"
    }
   ],
   "source": [
    "x"
   ]
  },
  {
   "cell_type": "code",
   "execution_count": 50,
   "id": "17781ce1-92ec-42d5-bc83-cfea5398da33",
   "metadata": {},
   "outputs": [
    {
     "data": {
      "text/plain": [
       "tensor([[47.3440, 42.0993, 49.5393, 49.5503],\n",
       "        [47.3440, 42.0993, 49.5393, 49.5503],\n",
       "        [47.3440, 42.0993, 49.5393, 49.5503],\n",
       "        [47.3440, 42.0993, 49.5393, 49.5503],\n",
       "        [47.3440, 42.0993, 49.5393, 49.5503],\n",
       "        [47.3440, 42.0993, 49.5393, 49.5503],\n",
       "        [47.3440, 42.0993, 49.5393, 49.5503],\n",
       "        [47.3440, 42.0993, 49.5393, 49.5503],\n",
       "        [47.3440, 42.0993, 49.5393, 49.5503],\n",
       "        [47.3440, 42.0993, 49.5393, 49.5503]], device='cuda:0',\n",
       "       grad_fn=<AddmmBackward0>)"
      ]
     },
     "execution_count": 50,
     "metadata": {},
     "output_type": "execute_result"
    }
   ],
   "source": [
    "model(x,t)"
   ]
  },
  {
   "cell_type": "code",
   "execution_count": null,
   "id": "8ccda78b-4cbc-42cd-a19a-c21d2c783312",
   "metadata": {},
   "outputs": [],
   "source": []
  }
 ],
 "metadata": {
  "kernelspec": {
   "display_name": "Python [conda env:anaconda-2022.10]",
   "language": "python",
   "name": "conda-env-anaconda-2022.10-py"
  },
  "language_info": {
   "codemirror_mode": {
    "name": "ipython",
    "version": 3
   },
   "file_extension": ".py",
   "mimetype": "text/x-python",
   "name": "python",
   "nbconvert_exporter": "python",
   "pygments_lexer": "ipython3",
   "version": "3.9.13"
  }
 },
 "nbformat": 4,
 "nbformat_minor": 5
}
